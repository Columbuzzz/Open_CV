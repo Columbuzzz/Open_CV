{
 "cells": [
  {
   "cell_type": "code",
   "execution_count": 1,
   "id": "dba2ad5f",
   "metadata": {},
   "outputs": [],
   "source": [
    "import os \n",
    "import cv2"
   ]
  },
  {
   "cell_type": "code",
   "execution_count": 22,
   "id": "e318f1f3",
   "metadata": {},
   "outputs": [],
   "source": [
    "img = cv2.imread(os.path.join('.','data','contour.jpg'))"
   ]
  },
  {
   "cell_type": "code",
   "execution_count": null,
   "id": "6ca1b961",
   "metadata": {},
   "outputs": [],
   "source": [
    "ret , thresh = cv2.threshold(img , 127  , 255 , cv2.THRESH_BINARY_INV) #inverse threshold because converting black to white and white to black"
   ]
  },
  {
   "cell_type": "code",
   "execution_count": 7,
   "id": "a020d052",
   "metadata": {},
   "outputs": [],
   "source": [
    "cv2.imshow('img', img)\n",
    "cv2.imshow('img ' , thresh)\n",
    "cv2.waitKey(4000)\n",
    "cv2.destroyAllWindows()"
   ]
  },
  {
   "cell_type": "code",
   "execution_count": 23,
   "id": "27df3450",
   "metadata": {},
   "outputs": [],
   "source": [
    "img = cv2.cvtColor(img , cv2.COLOR_BGR2GRAY)\n",
    "ret , thresh = cv2.threshold(img , 127  , 255 , cv2.THRESH_BINARY_INV)"
   ]
  },
  {
   "cell_type": "code",
   "execution_count": null,
   "id": "5d43735e",
   "metadata": {},
   "outputs": [],
   "source": [
    " "
   ]
  },
  {
   "cell_type": "code",
   "execution_count": 26,
   "id": "d18df91c",
   "metadata": {},
   "outputs": [],
   "source": [
    "contours , hierarchy ,  = cv2.findContours(thresh ,cv2.RETR_TREE,cv2.CHAIN_APPROX_SIMPLE)\n",
    "for cnt in contours:\n",
    "    if cv2.contourArea(cnt) >200:\n",
    "        #cv2.drawContours(img , cnt,-1, (0,255,255),1)\n",
    "        x1 , y1 , w, h = cv2.boundingRect(cnt)\n",
    "        cv2.rectangle(img , (x1,y1),(x1 +w , y1+h),(0,255,0),2)"
   ]
  },
  {
   "cell_type": "code",
   "execution_count": 27,
   "id": "63ba9d6e",
   "metadata": {},
   "outputs": [],
   "source": [
    "cv2.imshow('img',img)\n",
    "cv2.waitKey(10000)\n",
    "cv2.destroyAllWindows()"
   ]
  },
  {
   "cell_type": "code",
   "execution_count": null,
   "id": "2a080841",
   "metadata": {},
   "outputs": [],
   "source": [
    "# new commit"
   ]
  }
 ],
 "metadata": {
  "kernelspec": {
   "display_name": "cv_env",
   "language": "python",
   "name": "python3"
  },
  "language_info": {
   "codemirror_mode": {
    "name": "ipython",
    "version": 3
   },
   "file_extension": ".py",
   "mimetype": "text/x-python",
   "name": "python",
   "nbconvert_exporter": "python",
   "pygments_lexer": "ipython3",
   "version": "3.12.7"
  }
 },
 "nbformat": 4,
 "nbformat_minor": 5
}
