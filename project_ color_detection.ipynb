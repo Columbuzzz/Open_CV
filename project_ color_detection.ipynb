{
 "cells": [
  {
   "cell_type": "code",
   "execution_count": 1,
   "id": "01c6cc54",
   "metadata": {},
   "outputs": [],
   "source": [
    "import numpy as np\n",
    "import cv2"
   ]
  },
  {
   "cell_type": "code",
   "execution_count": 13,
   "id": "78c94d3d",
   "metadata": {},
   "outputs": [],
   "source": [
    "import cv2 \n",
    "from PIL import Image\n",
    "def get_limits(color):\n",
    "\n",
    "    c = np.uint8([[color]])\n",
    "    hsvC = cv2.cvtColor(c , cv2.COLOR_BGR2HSV)\n",
    "\n",
    "    lower_limit = hsvC[0][0][0] - 10 ,100,100\n",
    "    upper_limit = hsvC[0][0][0] - 10 ,255,255\n",
    "\n",
    "    lower_limit = np.array(lower_limit,dtype = np.uint8)\n",
    "    upper_limit = np.array(upper_limit , dtype = np.uint8)\n",
    "    \n",
    "    return lower_limit , upper_limit\n",
    "\n",
    "\n",
    "yellow = [0,255,255]\n",
    "cap = cv2.VideoCapture(0)\n",
    "while True:\n",
    "    ret , frame = cap.read()\n",
    "\n",
    "    hsv_image = cv2.cvtColor(frame, cv2.COLOR_BGR2HSV)\n",
    "\n",
    "    lower_limit , upper_limit = get_limits(color = yellow)\n",
    "\n",
    "\n",
    "\n",
    "    mask = cv2.inRange(hsv_image , lower_limit , upper_limit)\n",
    "\n",
    "    mask_ = Image.fromarray(mask) # from numpuy to pillow\n",
    "\n",
    "    bbox = mask_.getbbox()\n",
    "    \n",
    "\n",
    "    if bbox is not None:\n",
    "        x1 , y1 , x2 , y2 = bbox\n",
    "        frame = cv2.rectangle(frame , (x1 , y1),(x2,y2), (0,255,0))\n",
    "\n",
    "\n",
    "    cv2.imshow('frame', frame)\n",
    "\n",
    "    \n",
    "\n",
    "    if cv2.waitKey(1) & 0xFF == ord('q'):\n",
    "        break\n",
    "cap.release()\n",
    "cv2.destroyAllWindows()\n"
   ]
  },
  {
   "cell_type": "code",
   "execution_count": null,
   "id": "31a06c7c",
   "metadata": {},
   "outputs": [],
   "source": []
  },
  {
   "cell_type": "code",
   "execution_count": null,
   "id": "5bddf775",
   "metadata": {},
   "outputs": [],
   "source": []
  }
 ],
 "metadata": {
  "kernelspec": {
   "display_name": "cv_env",
   "language": "python",
   "name": "python3"
  },
  "language_info": {
   "codemirror_mode": {
    "name": "ipython",
    "version": 3
   },
   "file_extension": ".py",
   "mimetype": "text/x-python",
   "name": "python",
   "nbconvert_exporter": "python",
   "pygments_lexer": "ipython3",
   "version": "3.12.7"
  }
 },
 "nbformat": 4,
 "nbformat_minor": 5
}
