{
 "cells": [
  {
   "cell_type": "code",
   "execution_count": null,
   "id": "72fa0bf3",
   "metadata": {},
   "outputs": [],
   "source": [
    "import cv2 \n",
    "import os \n",
    "#read Video\n",
    "video_path = os.path.join('.', 'data', 'monkey.mp4') #assume our video is in data \n",
    "video = cv2.VideoCapture(video_path)"
   ]
  },
  {
   "cell_type": "code",
   "execution_count": null,
   "id": "616fba3a",
   "metadata": {},
   "outputs": [],
   "source": [
    "#visualize video\n",
    "ret = True \n",
    "while ret:\n",
    "    ret , frame = video.read()\n",
    "\n",
    "    #video read returns two variables , frame , ret will be true till we have frames, it becomes false as soon as frames finish\n",
    "    if ret:\n",
    "        cv2.imshow('frame' , frame)\n",
    "        cv2.waitKey(40)\n",
    "video.release()\n",
    "cv2.destroyAllWindows"
   ]
  },
  {
   "cell_type": "code",
   "execution_count": null,
   "id": "a41460a9",
   "metadata": {},
   "outputs": [],
   "source": []
  }
 ],
 "metadata": {
  "language_info": {
   "name": "python"
  }
 },
 "nbformat": 4,
 "nbformat_minor": 5
}
