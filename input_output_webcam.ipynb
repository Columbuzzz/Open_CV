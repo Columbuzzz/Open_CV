{
 "cells": [
  {
   "cell_type": "code",
   "execution_count": 1,
   "id": "826bb353",
   "metadata": {},
   "outputs": [],
   "source": [
    "import cv2\n",
    "#read webcam\n",
    "webcam = cv2.VideoCapture(0)\n",
    "#visualize webcam\n",
    "\n",
    "while True:\n",
    "    ret , frame = webcam.read()\n",
    "\n",
    "    cv2.imshow('frame',frame)\n",
    "    if cv2.waitKey(40) & 0xFF == ord('q'):\n",
    "        break\n",
    "\n",
    "webcam.release()\n",
    "cv2.destroyAllWindows()"
   ]
  },
  {
   "cell_type": "code",
   "execution_count": null,
   "id": "e53d1601",
   "metadata": {},
   "outputs": [],
   "source": []
  }
 ],
 "metadata": {
  "kernelspec": {
   "display_name": "cv_env",
   "language": "python",
   "name": "python3"
  },
  "language_info": {
   "codemirror_mode": {
    "name": "ipython",
    "version": 3
   },
   "file_extension": ".py",
   "mimetype": "text/x-python",
   "name": "python",
   "nbconvert_exporter": "python",
   "pygments_lexer": "ipython3",
   "version": "3.12.7"
  }
 },
 "nbformat": 4,
 "nbformat_minor": 5
}
