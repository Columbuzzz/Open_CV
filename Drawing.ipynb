{
 "cells": [
  {
   "cell_type": "code",
   "execution_count": 2,
   "id": "703c0658",
   "metadata": {},
   "outputs": [],
   "source": [
    "import os \n",
    "import cv2"
   ]
  },
  {
   "cell_type": "code",
   "execution_count": 3,
   "id": "936df852",
   "metadata": {},
   "outputs": [],
   "source": [
    "img = cv2.imread(os.path.join('.','data','whiteboard.jpg'))"
   ]
  },
  {
   "cell_type": "code",
   "execution_count": 6,
   "id": "7832b395",
   "metadata": {},
   "outputs": [],
   "source": [
    "new_img = cv2.line(img,(100,150),(300,450),(0,255,0),3)"
   ]
  },
  {
   "cell_type": "code",
   "execution_count": 7,
   "id": "5d6959a4",
   "metadata": {},
   "outputs": [],
   "source": [
    "cv2.imshow(\"Image with Line\", new_img)\n",
    "cv2.waitKey(4000)   # Wait for a key press\n",
    "cv2.destroyAllWindows()\n"
   ]
  },
  {
   "cell_type": "code",
   "execution_count": 9,
   "id": "17d398eb",
   "metadata": {},
   "outputs": [],
   "source": [
    "new_rect = cv2.rectangle(img , (100,150),(300,450),(0,255,0),3)\n",
    "cv2.imshow(\"Image with Rectange\", new_rect)\n",
    "cv2.waitKey(4000)   # Wait for a key press\n",
    "cv2.destroyAllWindows()\n"
   ]
  },
  {
   "cell_type": "code",
   "execution_count": 10,
   "id": "444d67bc",
   "metadata": {},
   "outputs": [],
   "source": [
    "new_rect = cv2.rectangle(img , (100,150),(300,450),(0,255,255),3)\n",
    "cv2.imshow(\"Image with Rectange\", new_rect)\n",
    "cv2.waitKey(4000)   # Wait for a key press\n",
    "cv2.destroyAllWindows()"
   ]
  },
  {
   "cell_type": "code",
   "execution_count": 14,
   "id": "513e492e",
   "metadata": {},
   "outputs": [],
   "source": [
    "new_circle = cv2.circle(img,(100,100),100,(255,0,0),3)\n",
    "cv2.imshow(\"Image with circle\", new_circle)\n",
    "cv2.waitKey(4000)   # Wait for a key press\n",
    "cv2.destroyAllWindows()"
   ]
  },
  {
   "cell_type": "code",
   "execution_count": 15,
   "id": "ae88b729",
   "metadata": {},
   "outputs": [],
   "source": [
    "new_circle = cv2.circle(img,(100,100),100,(255,0,0),-1)\n",
    "cv2.imshow(\"Image with circle\", new_circle)\n",
    "cv2.waitKey(4000)   # Wait for a key press\n",
    "cv2.destroyAllWindows()"
   ]
  },
  {
   "cell_type": "code",
   "execution_count": 17,
   "id": "db22de53",
   "metadata": {},
   "outputs": [],
   "source": [
    "new_text = cv2.putText(img , \"Hey You\", (200,200),cv2.FONT_HERSHEY_COMPLEX,2,(255,255,0),2)\n",
    "cv2.imshow(\"Image with circle\", new_text)\n",
    "cv2.waitKey(4000)   # Wait for a key press\n",
    "cv2.destroyAllWindows()"
   ]
  },
  {
   "cell_type": "code",
   "execution_count": null,
   "id": "4f2b99d4",
   "metadata": {},
   "outputs": [],
   "source": []
  }
 ],
 "metadata": {
  "kernelspec": {
   "display_name": "cv_env",
   "language": "python",
   "name": "python3"
  },
  "language_info": {
   "codemirror_mode": {
    "name": "ipython",
    "version": 3
   },
   "file_extension": ".py",
   "mimetype": "text/x-python",
   "name": "python",
   "nbconvert_exporter": "python",
   "pygments_lexer": "ipython3",
   "version": "3.12.7"
  }
 },
 "nbformat": 4,
 "nbformat_minor": 5
}
